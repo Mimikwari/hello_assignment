{
 "cells": [
  {
   "cell_type": "markdown",
   "id": "b2a00584",
   "metadata": {},
   "source": [
    "# no 5\n"
   ]
  },
  {
   "cell_type": "code",
   "execution_count": null,
   "id": "7a4b720a",
   "metadata": {},
   "outputs": [],
   "source": [
    "num_containers = int(input('Enter the number of containers: '))\n",
    "size_container = float(input('Enter the size of the containers: '))\n",
    "\n",
    "total_refunds = 0\n",
    "if size_container <= 1:\n",
    "    total_refunds = num_containers*0.10 \n",
    "else:\n",
    "    total_refunds = num_containers*0.25\n",
    "\n",
    "    \n",
    "print(f'Total refunds for returning {num_containers} {size_container}L container: ${round(total_refunds, 2)}')"
   ]
  },
  {
   "cell_type": "code",
   "execution_count": 4,
   "id": "40e31371",
   "metadata": {},
   "outputs": [
    {
     "name": "stdout",
     "output_type": "stream",
     "text": [
      "Enter the number of containers: 54\n",
      "Enter the size of the containers: 1\n",
      "Total refunds for returning 54 1.0L container: $5.4\n"
     ]
    }
   ],
   "source": [
    "num_containers = int(input('Enter the number of containers: '))\n",
    "size_container = float(input('Enter the size of the containers: '))\n",
    "\n",
    "total_refunds = 0\n",
    "if size_container <= 1:\n",
    "    total_refunds = num_containers*0.10 \n",
    "else:\n",
    "    total_refunds = num_containers*0.25\n",
    "\n",
    "    \n",
    "print(f'Total refunds for returning {num_containers} {size_container}L container: ${round(total_refunds, 2)}')"
   ]
  },
  {
   "cell_type": "markdown",
   "id": "bba87cd8",
   "metadata": {},
   "source": [
    "# no 6\n"
   ]
  },
  {
   "cell_type": "code",
   "execution_count": 8,
   "id": "ba2353e2",
   "metadata": {},
   "outputs": [
    {
     "name": "stdout",
     "output_type": "stream",
     "text": [
      "enter the cost of your meal: 500\n",
      "cost of meal:500.0\n",
      "tax on meal:30.0\n",
      "grand total:620.0\n"
     ]
    }
   ],
   "source": [
    "TAX_RATE = 0.06\n",
    "meal_cost =round(float(input('enter the cost of your meal: ')), 2)\n",
    "tip= round(0.18*meal_cost,2)\n",
    "tax= round(TAX_RATE*meal_cost,2)\n",
    "print(f'cost of meal:{meal_cost}')\n",
    "print(f'tax on meal:{tax}')\n",
    "print(f'grand total:{meal_cost+tax+tip}')"
   ]
  },
  {
   "cell_type": "markdown",
   "id": "e787d69b",
   "metadata": {},
   "source": [
    "# no 7\n"
   ]
  },
  {
   "cell_type": "code",
   "execution_count": 3,
   "id": "b1e9e546",
   "metadata": {},
   "outputs": [
    {
     "name": "stdout",
     "output_type": "stream",
     "text": [
      "enter a positive integer12\n",
      "the sum of the first 12 positive integer is, sum\n"
     ]
    }
   ],
   "source": [
    "n = int(input(\"enter a positive integer\" ) )\n",
    "sum = \n",
    "print(\"the sum of the first\", n, \"positive integer is, sum\")\n",
    "\n"
   ]
  },
  {
   "cell_type": "markdown",
   "id": "494163ab",
   "metadata": {},
   "source": [
    "# no 8"
   ]
  },
  {
   "cell_type": "code",
   "execution_count": 7,
   "id": "9972437b",
   "metadata": {},
   "outputs": [
    {
     "name": "stdout",
     "output_type": "stream",
     "text": [
      "enter the number of widgets ordered: 25\n",
      "enter the number of gizmos ordered: 25\n",
      "total weight of widgets ordered:1875\n",
      "total weight of gizmos ordered:2800\n"
     ]
    }
   ],
   "source": [
    "WIDGET_WEIGHT = 75\n",
    "GIZMO_WEIGHT = 112\n",
    "n_widgets = int(input(\"enter the number of widgets ordered: \"))\n",
    "n_gizmos = int(input(\"enter the number of gizmos ordered: \"))\n",
    "print (f'total weight of widgets ordered:{n_widgets*WIDGET_WEIGHT}')\n",
    "print(f'total weight of gizmos ordered:{n_gizmos*GIZMO_WEIGHT}')\n",
    "\n",
    "\n"
   ]
  },
  {
   "cell_type": "code",
   "execution_count": null,
   "id": "457871f1",
   "metadata": {},
   "outputs": [],
   "source": []
  }
 ],
 "metadata": {
  "kernelspec": {
   "display_name": "Python 3 (ipykernel)",
   "language": "python",
   "name": "python3"
  },
  "language_info": {
   "codemirror_mode": {
    "name": "ipython",
    "version": 3
   },
   "file_extension": ".py",
   "mimetype": "text/x-python",
   "name": "python",
   "nbconvert_exporter": "python",
   "pygments_lexer": "ipython3",
   "version": "3.10.9"
  }
 },
 "nbformat": 4,
 "nbformat_minor": 5
}
